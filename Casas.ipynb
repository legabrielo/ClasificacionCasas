{
 "cells": [
  {
   "attachments": {},
   "cell_type": "markdown",
   "metadata": {},
   "source": [
    "# Clasificador de Casas\n",
    "\n",
    "- Este notebook estará hecho para crear un clasificador de casas basado en un dataset encontrado en Kaggle. \n",
    "- La idea es crear la conexión con la api de Kaggle\n",
    "- Limpiar los datos\n",
    "- Entrenarlo con el modelo de clasificación más apropiado \n",
    "- Hacer la predicción y compararlo con el dataset de test "
   ]
  },
  {
   "cell_type": "code",
   "execution_count": null,
   "metadata": {},
   "outputs": [],
   "source": [
    "# Para la manipulación de datos \n",
    "import pandas as pd \n",
    "import numpy as np \n",
    "\n",
    "# Para la visualización de los datos \n",
    "import matplotlib.pyplot as plt \n",
    "import seaborn as sns \n",
    "\n",
    "# Para conexión de API \n",
    "import kaggle\n",
    "\n",
    "# Para crear el clasificador \n",
    "from sklearn.cluster import KMeans\n",
    "from sklearn.pipeline import Pipeline\n",
    "from sklearn.linear_model import LinearRegression, LogisticRegression\n",
    "from sklearn.naive_bayes import GaussianNB\n",
    "\n",
    "# Para guardar el modelo \n",
    "import pickle\n",
    "\n",
    "\n"
   ]
  }
 ],
 "metadata": {
  "language_info": {
   "name": "python"
  },
  "orig_nbformat": 4
 },
 "nbformat": 4,
 "nbformat_minor": 2
}
